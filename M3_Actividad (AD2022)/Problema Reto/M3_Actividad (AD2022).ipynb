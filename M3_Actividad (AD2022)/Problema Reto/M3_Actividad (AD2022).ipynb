{
 "cells": [
  {
   "cell_type": "code",
   "execution_count": null,
   "metadata": {},
   "outputs": [],
   "source": []
  }
 ],
 "metadata": {
  "kernelspec": {
   "display_name": "Python 3.7.11 ('torch37')",
   "language": "python",
   "name": "python3"
  },
  "language_info": {
   "name": "python",
   "version": "3.7.11"
  },
  "orig_nbformat": 4,
  "vscode": {
   "interpreter": {
    "hash": "5ae1cf70786a46721fd09fee267ea3485c6969f729026b4657dbf8da65fd8cd5"
   }
  }
 },
 "nbformat": 4,
 "nbformat_minor": 2
}
