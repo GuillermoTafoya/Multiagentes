{
 "cells": [
  {
   "cell_type": "code",
   "execution_count": null,
   "metadata": {},
   "outputs": [],
   "source": []
  },
  {
   "cell_type": "code",
   "execution_count": null,
   "metadata": {},
   "outputs": [],
   "source": [
    "def get_grid(model):\n",
    "    grid = np.zeros((model.grid.width, model.grid.height))\n",
    "\n",
    "    #Por todas las celdas del grid\n",
    "    for cell in model.grid.coord_iter():\n",
    "        agent, x, y = cell\n",
    "\n",
    "        if isinstance(agent, Car):\n",
    "            if agent.colour == 'white':\n",
    "                grid[x][y] = 6\n",
    "            elif agent.colour == 'blue':\n",
    "                grid[x][y] = 7\n",
    "            elif agent.colour == 'purple':\n",
    "                grid[x][y] = 8\n",
    "            else: # black\n",
    "                grid[x][y] = 9\n",
    "\n",
    "        elif isinstance(agent, Road):\n",
    "            if agent.colour == 'brown':\n",
    "                grid[x][y] = 3\n",
    "            elif agent.colour == 'olive':\n",
    "                grid[x][y] = 4\n",
    "            else: # dark green\n",
    "                grid[x][y] = 5\n",
    "\n",
    "        elif isinstance(agent, TrafficLight):\n",
    "            if agent.colour == 'green':\n",
    "                grid[x][y] = 2\n",
    "            else: # red\n",
    "                grid[x][y] = 1\n",
    "\n",
    "        else: # Street\n",
    "            grid[x][y] = 0\n",
    "\n",
    "    return grid"
   ]
  }
 ],
 "metadata": {
  "kernelspec": {
   "display_name": "Python 3.7.11 ('torch37')",
   "language": "python",
   "name": "python3"
  },
  "language_info": {
   "name": "python",
   "version": "3.7.11"
  },
  "orig_nbformat": 4,
  "vscode": {
   "interpreter": {
    "hash": "5ae1cf70786a46721fd09fee267ea3485c6969f729026b4657dbf8da65fd8cd5"
   }
  }
 },
 "nbformat": 4,
 "nbformat_minor": 2
}
