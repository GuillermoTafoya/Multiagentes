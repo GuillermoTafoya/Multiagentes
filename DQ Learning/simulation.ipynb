{
 "cells": [
  {
   "cell_type": "code",
   "execution_count": 6,
   "metadata": {},
   "outputs": [],
   "source": [
    "from models import *"
   ]
  },
  {
   "cell_type": "code",
   "execution_count": 7,
   "metadata": {},
   "outputs": [],
   "source": [
    "one_hot = True\n",
    "board = Board(10, 10, seed = 2, spawn_rate=2, max_spawn_batch=7, one_hot = one_hot)\n",
    "for i in range(400):\n",
    "    board.step()"
   ]
  },
  {
   "cell_type": "code",
   "execution_count": 8,
   "metadata": {},
   "outputs": [],
   "source": [
    "if not one_hot:\n",
    "    \n",
    "\n",
    "    %%capture\n",
    "\n",
    "    all_grid = board.datacollector.get_model_vars_dataframe()\n",
    "    fig, axs = plt.subplots(figsize=(7,7))\n",
    "    axs.set_xticks([])\n",
    "    axs.set_yticks([])\n",
    "    patch = plt.imshow(all_grid.iloc[0][0], cmap=plt.cm.binary)\n",
    "\n",
    "    def animate(i):\n",
    "        patch.set_data(all_grid.iloc[i][0])\n",
    "        \n",
    "    anim = animation.FuncAnimation(fig, animate, frames=len(all_grid))"
   ]
  },
  {
   "cell_type": "code",
   "execution_count": 9,
   "metadata": {},
   "outputs": [
    {
     "data": {
      "text/html": [
       "<div>\n",
       "<style scoped>\n",
       "    .dataframe tbody tr th:only-of-type {\n",
       "        vertical-align: middle;\n",
       "    }\n",
       "\n",
       "    .dataframe tbody tr th {\n",
       "        vertical-align: top;\n",
       "    }\n",
       "\n",
       "    .dataframe thead th {\n",
       "        text-align: right;\n",
       "    }\n",
       "</style>\n",
       "<table border=\"1\" class=\"dataframe\">\n",
       "  <thead>\n",
       "    <tr style=\"text-align: right;\">\n",
       "      <th></th>\n",
       "      <th>Grid</th>\n",
       "    </tr>\n",
       "  </thead>\n",
       "  <tbody>\n",
       "    <tr>\n",
       "      <th>0</th>\n",
       "      <td>[[[0.0, 0.0, 0.0, 0.0, 1.0], [0.0, 0.0, 0.0, 0...</td>\n",
       "    </tr>\n",
       "    <tr>\n",
       "      <th>1</th>\n",
       "      <td>[[[0.0, 0.0, 0.0, 0.0, 1.0], [0.0, 0.0, 0.0, 0...</td>\n",
       "    </tr>\n",
       "    <tr>\n",
       "      <th>2</th>\n",
       "      <td>[[[0.0, 0.0, 0.0, 0.0, 1.0], [0.0, 0.0, 0.0, 0...</td>\n",
       "    </tr>\n",
       "    <tr>\n",
       "      <th>3</th>\n",
       "      <td>[[[0.0, 0.0, 0.0, 0.0, 1.0], [0.0, 0.0, 0.0, 0...</td>\n",
       "    </tr>\n",
       "    <tr>\n",
       "      <th>4</th>\n",
       "      <td>[[[0.0, 0.0, 0.0, 0.0, 1.0], [0.0, 0.0, 0.0, 0...</td>\n",
       "    </tr>\n",
       "    <tr>\n",
       "      <th>...</th>\n",
       "      <td>...</td>\n",
       "    </tr>\n",
       "    <tr>\n",
       "      <th>395</th>\n",
       "      <td>[[[0.0, 0.0, 0.0, 0.0, 1.0], [0.0, 0.0, 0.0, 0...</td>\n",
       "    </tr>\n",
       "    <tr>\n",
       "      <th>396</th>\n",
       "      <td>[[[0.0, 0.0, 0.0, 0.0, 1.0], [0.0, 0.0, 0.0, 0...</td>\n",
       "    </tr>\n",
       "    <tr>\n",
       "      <th>397</th>\n",
       "      <td>[[[0.0, 0.0, 0.0, 0.0, 1.0], [0.0, 0.0, 0.0, 0...</td>\n",
       "    </tr>\n",
       "    <tr>\n",
       "      <th>398</th>\n",
       "      <td>[[[0.0, 0.0, 0.0, 0.0, 1.0], [0.0, 0.0, 0.0, 0...</td>\n",
       "    </tr>\n",
       "    <tr>\n",
       "      <th>399</th>\n",
       "      <td>[[[0.0, 0.0, 0.0, 0.0, 1.0], [0.0, 0.0, 0.0, 0...</td>\n",
       "    </tr>\n",
       "  </tbody>\n",
       "</table>\n",
       "<p>400 rows × 1 columns</p>\n",
       "</div>"
      ],
      "text/plain": [
       "                                                  Grid\n",
       "0    [[[0.0, 0.0, 0.0, 0.0, 1.0], [0.0, 0.0, 0.0, 0...\n",
       "1    [[[0.0, 0.0, 0.0, 0.0, 1.0], [0.0, 0.0, 0.0, 0...\n",
       "2    [[[0.0, 0.0, 0.0, 0.0, 1.0], [0.0, 0.0, 0.0, 0...\n",
       "3    [[[0.0, 0.0, 0.0, 0.0, 1.0], [0.0, 0.0, 0.0, 0...\n",
       "4    [[[0.0, 0.0, 0.0, 0.0, 1.0], [0.0, 0.0, 0.0, 0...\n",
       "..                                                 ...\n",
       "395  [[[0.0, 0.0, 0.0, 0.0, 1.0], [0.0, 0.0, 0.0, 0...\n",
       "396  [[[0.0, 0.0, 0.0, 0.0, 1.0], [0.0, 0.0, 0.0, 0...\n",
       "397  [[[0.0, 0.0, 0.0, 0.0, 1.0], [0.0, 0.0, 0.0, 0...\n",
       "398  [[[0.0, 0.0, 0.0, 0.0, 1.0], [0.0, 0.0, 0.0, 0...\n",
       "399  [[[0.0, 0.0, 0.0, 0.0, 1.0], [0.0, 0.0, 0.0, 0...\n",
       "\n",
       "[400 rows x 1 columns]"
      ]
     },
     "execution_count": 9,
     "metadata": {},
     "output_type": "execute_result"
    }
   ],
   "source": [
    "all = board.datacollector.get_model_vars_dataframe()\n",
    "# Save the 3d one hot encoded grid to txt for visualization\n",
    "with open(\"grid.txt\", \"w\") as file:\n",
    "    for i in range(len(all)):\n",
    "        for j in range(len(all.iloc[i][0])):\n",
    "            for k in range(len(all.iloc[i][0][j])):\n",
    "                file.write(str(all.iloc[i][0][j][k]) + \" \")\n",
    "            file.write(\"\\n\")\n",
    "all\n"
   ]
  },
  {
   "cell_type": "code",
   "execution_count": 10,
   "metadata": {},
   "outputs": [
    {
     "name": "stdout",
     "output_type": "stream",
     "text": [
      "Success rate: 90.75%\n",
      "Crashes: 48\n",
      "Successful trips: 471\n"
     ]
    }
   ],
   "source": [
    "# Success rate\n",
    "print(\"Success rate:\", \"{:.2f}\".format(board.successful_trips / (board.successful_trips + board.crashes)*100)+\"%\")\n",
    "print(f\"Crashes: {int(board.crashes)}\")\n",
    "print(f\"Successful trips: {board.successful_trips}\")"
   ]
  },
  {
   "cell_type": "code",
   "execution_count": 11,
   "metadata": {},
   "outputs": [],
   "source": [
    "if not one_hot:\n",
    "    anim"
   ]
  },
  {
   "cell_type": "markdown",
   "metadata": {},
   "source": [
    "# M3. Interacciones entre agentes (Etapa Reto: 1.1)\n",
    "\n",
    "Narhari Olalde Guajardo\t\t\t| A01284077<br>\n",
    "Guillermo Tafoya Milo\t\t\t| A01633790<br>\n",
    "Mauricio Maqueo Huerta\t\t\t| A01620649<br>\n",
    "Emiliano Yoltic Martinez \t\t| A01620000<br>\n",
    "\n",
    "## Responder a las preguntas de la etapa 1.1 del reto:\n",
    "\n",
    "### ¿Cómo se modela la circulación de un automóvil en un ambiente urbano?\n",
    "\n",
    "Para el desarrollo de este proyecto el comportamiento de los vehículos estará determinado mediante inteligencia artificial e interactuando en el entorno mediante sensores ubicados en el juego de Unity en forma de semáforos.\n",
    "\n",
    "### ¿Cómo se modela la circulación de un grupo de automóviles en un ambiente urbano?\n",
    "\n",
    "La idea principal del proyecto es modelar el comportamiento del tráfico en un entorno controlado en el cual podamos modificar los parámetros por los cuales los semáforos se rigen al igual que poder controlar la velocidad y población de los coches. \n",
    "\n",
    "\n",
    "1. Mientras no haya un vehículo cercano, el semáforo estará en luz amarilla. \n",
    "2. Cuando un vehículo se acerque a la intersección, enviará un mensaje con el tiempo estimado de arribo.\n",
    "3. El semáforo dará luz verde al semáforo más cercano y establecerá un programa de luces a partir de ese punto para el resto de los vehículos.\n",
    "\n",
    "#### Agentes:\n",
    "1. Coches\n",
    "2. Semáforos\n",
    "\n",
    "#### Diagrama de estados\n",
    "1. Mientras no haya un vehículo cercano, el semáforo estará en luz amarilla. \n",
    "No vehiculo = semaforo en amarillo\n",
    "2. Cuando un vehículo se acerque a la intersección, enviará un mensaje con el tiempo estimado de arribo.\n",
    "Vehículo cerca = se manda a tiempo de llegada estimado a semáforo más cercano \n",
    "3. El semáforo dará luz verde al semáforo más cercano y establecerá un programa de luces a partir de ese punto para el resto de los vehículos.\n"
   ]
  }
 ],
 "metadata": {
  "kernelspec": {
   "display_name": "Python 3.9.1 64-bit",
   "language": "python",
   "name": "python3"
  },
  "language_info": {
   "codemirror_mode": {
    "name": "ipython",
    "version": 3
   },
   "file_extension": ".py",
   "mimetype": "text/x-python",
   "name": "python",
   "nbconvert_exporter": "python",
   "pygments_lexer": "ipython3",
   "version": "3.9.1"
  },
  "orig_nbformat": 4,
  "vscode": {
   "interpreter": {
    "hash": "d3c664153e82a2cc5d83ee60bf86ec1b1759332b9f4b40fc9c5183e828ec8042"
   }
  }
 },
 "nbformat": 4,
 "nbformat_minor": 2
}
