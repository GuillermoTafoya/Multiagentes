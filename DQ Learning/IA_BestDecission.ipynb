{
 "cells": [
  {
   "cell_type": "code",
   "execution_count": null,
   "metadata": {},
   "outputs": [],
   "source": [
    "from models_DQ_showoff import *\n",
    "from IA_Trafficlight import *"
   ]
  },
  {
   "cell_type": "code",
   "execution_count": null,
   "metadata": {},
   "outputs": [
    {
     "name": "stdout",
     "output_type": "stream",
     "text": [
      "Hello World!\n"
     ]
    }
   ],
   "source": [
    "print(\"Hello World!\")"
   ]
  },
  {
   "cell_type": "code",
   "execution_count": null,
   "metadata": {},
   "outputs": [],
   "source": [
    "one_hot = True\n",
    "write = False\n",
    "board = Board(width = 31, height = 31, spawn_rate=5, max_spawn_batch=6, one_hot = one_hot, write=write,targetSuccessfulTrips=200)"
   ]
  },
  {
   "cell_type": "code",
   "execution_count": null,
   "metadata": {},
   "outputs": [],
   "source": [
    "IA = TrafficLightIA(board,epsilon=0.1)"
   ]
  },
  {
   "cell_type": "code",
   "execution_count": null,
   "metadata": {},
   "outputs": [],
   "source": [
    "\n",
    "state = IA.env.reset()\n",
    "state = torch.tensor(state).to(IA.device)\n",
    "# We reshape the state to be a 1x(11x31x31) tensor\n",
    "state = state.view(1, 11*31*31)\n",
    "print(\"-\"*50)\n",
    "print(\"Episode: \", 0)\n",
    "print(\"-\"*50)\n",
    "state = state.float()\n",
    "score = 0\n",
    "done = False\n",
    "steps = 0\n",
    "while not done:\n",
    "    action,wasRandom = IA.getMoves(state, IA.get_epsilon(0))\n",
    "    # Give time so the cars can move\n",
    "    for _ in range(10): \n",
    "        next_state, reward, done, _ = IA.env.step(action)\n",
    "    next_state = IA.tensor(next_state).to(IA.device)\n",
    "    next_state = next_state.view(1,11*31*31)\n",
    "    next_state = next_state.float()\n",
    "    state = next_state\n",
    "    score += reward\n",
    "    steps += 1\n",
    "    if steps > 200:\n",
    "        break"
   ]
  },
  {
   "cell_type": "code",
   "execution_count": null,
   "metadata": {},
   "outputs": [],
   "source": [
    "%%capture\n",
    "paleta = np.array(\n",
    "    [\n",
    "    # 0 -> highway\n",
    "    [30 , 30 , 30 ],  \n",
    "    # 1 -> up traffic light, red\n",
    "    [255, 0  , 0  ],\n",
    "    # 2 -> down traffic light, green\n",
    "    [0  , 255, 0  ],\n",
    "    # 3 -> road, dark green\n",
    "    [0  , 60, 0  ],\n",
    "    # 4 -> car looking up, purple\n",
    "    [255, 0  , 255],\n",
    "    # 5 -> car looking down, orange\n",
    "    [255, 165, 0  ],\n",
    "    # 6 -> car looking left, pink\n",
    "    [255, 192, 203],\n",
    "    # 7 -> car looking right, cyan\n",
    "    [0  , 255, 255],\n",
    "    # 8 -> lane\n",
    "    [255, 255, 255]\n",
    "    ])\n",
    "all_grid = board.datacollector.get_model_vars_dataframe()\n",
    "pinta_me = lambda matriz: paleta[matriz.astype(int)]\n",
    "fig, axs = plt.subplots(figsize=(7,7))\n",
    "axs.set_xticks([])\n",
    "axs.set_yticks([])\n",
    "patch = plt.imshow(pinta_me(all_grid.iloc[0][0]))\n",
    "def animate(i):\n",
    "    patch.set_data(pinta_me(all_grid.iloc[i][0]))\n",
    "anim = animation.FuncAnimation(fig, animate, frames=len(all_grid))"
   ]
  },
  {
   "cell_type": "code",
   "execution_count": null,
   "metadata": {},
   "outputs": [],
   "source": [
    "# Success rate\n",
    "if board.successful_trips:\n",
    "    print(\"Success rate:\", \"{:.2f}\".format(board.successful_trips / (board.successful_trips + board.crashes)*100)+\"%\")\n",
    "    print(f\"Crashes: {int(board.crashes)}\")\n",
    "    print(f\"Successful trips: {board.successful_trips}\")\n",
    "    print(f\"Time stuck: {board.time_stuck}\")\n",
    "    print(\"Reward:\", board.rewardFunction())\n",
    "else:\n",
    "    print(\"No successful trips\")"
   ]
  },
  {
   "cell_type": "code",
   "execution_count": null,
   "metadata": {},
   "outputs": [],
   "source": [
    "anim"
   ]
  }
 ],
 "metadata": {
  "kernelspec": {
   "display_name": "Python 3.9.13 ('mesa_torch')",
   "language": "python",
   "name": "python3"
  },
  "language_info": {
   "codemirror_mode": {
    "name": "ipython",
    "version": 3
   },
   "file_extension": ".py",
   "mimetype": "text/x-python",
   "name": "python",
   "nbconvert_exporter": "python",
   "pygments_lexer": "ipython3",
   "version": "3.9.13"
  },
  "orig_nbformat": 4,
  "vscode": {
   "interpreter": {
    "hash": "f524fe7025ca09d3c6e2288b9991147ec41ed39fe5df009f6f5a0e3373ab36bd"
   }
  }
 },
 "nbformat": 4,
 "nbformat_minor": 2
}
