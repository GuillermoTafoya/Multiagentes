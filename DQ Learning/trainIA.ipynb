{
 "cells": [
  {
   "cell_type": "code",
   "execution_count": 3,
   "metadata": {},
   "outputs": [
    {
     "ename": "ModuleNotFoundError",
     "evalue": "No module named 'numpy.typing'",
     "output_type": "error",
     "traceback": [
      "\u001b[1;31m---------------------------------------------------------------------------\u001b[0m",
      "\u001b[1;31mModuleNotFoundError\u001b[0m                       Traceback (most recent call last)",
      "\u001b[1;32m~\\AppData\\Local\\Temp/ipykernel_27256/484872918.py\u001b[0m in \u001b[0;36m<module>\u001b[1;34m\u001b[0m\n\u001b[1;32m----> 1\u001b[1;33m \u001b[1;32mfrom\u001b[0m \u001b[0mmodels\u001b[0m \u001b[1;32mimport\u001b[0m \u001b[1;33m*\u001b[0m\u001b[1;33m\u001b[0m\u001b[1;33m\u001b[0m\u001b[0m\n\u001b[0m",
      "\u001b[1;32md:\\Dev\\Multiagentes\\DQ Learning\\models.py\u001b[0m in \u001b[0;36m<module>\u001b[1;34m\u001b[0m\n\u001b[1;32m----> 1\u001b[1;33m \u001b[1;32mfrom\u001b[0m \u001b[0mmesa\u001b[0m \u001b[1;32mimport\u001b[0m \u001b[0mModel\u001b[0m\u001b[1;33m\u001b[0m\u001b[1;33m\u001b[0m\u001b[0m\n\u001b[0m\u001b[0;32m      2\u001b[0m \u001b[1;32mfrom\u001b[0m \u001b[0mmesa\u001b[0m\u001b[1;33m.\u001b[0m\u001b[0mspace\u001b[0m \u001b[1;32mimport\u001b[0m \u001b[0mMultiGrid\u001b[0m\u001b[1;33m\u001b[0m\u001b[1;33m\u001b[0m\u001b[0m\n\u001b[0;32m      3\u001b[0m \u001b[1;32mfrom\u001b[0m \u001b[0mmesa\u001b[0m\u001b[1;33m.\u001b[0m\u001b[0mtime\u001b[0m \u001b[1;32mimport\u001b[0m \u001b[0mSimultaneousActivation\u001b[0m\u001b[1;33m\u001b[0m\u001b[1;33m\u001b[0m\u001b[0m\n\u001b[0;32m      4\u001b[0m \u001b[1;32mfrom\u001b[0m \u001b[0mmesa\u001b[0m\u001b[1;33m.\u001b[0m\u001b[0mdatacollection\u001b[0m \u001b[1;32mimport\u001b[0m \u001b[0mDataCollector\u001b[0m\u001b[1;33m\u001b[0m\u001b[1;33m\u001b[0m\u001b[0m\n\u001b[0;32m      5\u001b[0m \u001b[1;32mimport\u001b[0m \u001b[0mmatplotlib\u001b[0m\u001b[1;33m\u001b[0m\u001b[1;33m\u001b[0m\u001b[0m\n",
      "\u001b[1;32md:\\Anaconda\\envs\\torch37\\lib\\site-packages\\mesa\\__init__.py\u001b[0m in \u001b[0;36m<module>\u001b[1;34m\u001b[0m\n\u001b[0;32m     11\u001b[0m \u001b[1;33m\u001b[0m\u001b[0m\n\u001b[0;32m     12\u001b[0m \u001b[1;32mimport\u001b[0m \u001b[0mmesa\u001b[0m\u001b[1;33m.\u001b[0m\u001b[0mtime\u001b[0m \u001b[1;32mas\u001b[0m \u001b[0mtime\u001b[0m\u001b[1;33m\u001b[0m\u001b[1;33m\u001b[0m\u001b[0m\n\u001b[1;32m---> 13\u001b[1;33m \u001b[1;32mimport\u001b[0m \u001b[0mmesa\u001b[0m\u001b[1;33m.\u001b[0m\u001b[0mspace\u001b[0m \u001b[1;32mas\u001b[0m \u001b[0mspace\u001b[0m\u001b[1;33m\u001b[0m\u001b[1;33m\u001b[0m\u001b[0m\n\u001b[0m\u001b[0;32m     14\u001b[0m \u001b[1;32mimport\u001b[0m \u001b[0mmesa\u001b[0m\u001b[1;33m.\u001b[0m\u001b[0mflat\u001b[0m\u001b[1;33m.\u001b[0m\u001b[0mvisualization\u001b[0m \u001b[1;32mas\u001b[0m \u001b[0mvisualization\u001b[0m\u001b[1;33m\u001b[0m\u001b[1;33m\u001b[0m\u001b[0m\n\u001b[0;32m     15\u001b[0m \u001b[1;32mfrom\u001b[0m \u001b[0mmesa\u001b[0m\u001b[1;33m.\u001b[0m\u001b[0mdatacollection\u001b[0m \u001b[1;32mimport\u001b[0m \u001b[0mDataCollector\u001b[0m\u001b[1;33m\u001b[0m\u001b[1;33m\u001b[0m\u001b[0m\n",
      "\u001b[1;32md:\\Anaconda\\envs\\torch37\\lib\\site-packages\\mesa\\space.py\u001b[0m in \u001b[0;36m<module>\u001b[1;34m\u001b[0m\n\u001b[0;32m     43\u001b[0m \u001b[1;32mfrom\u001b[0m \u001b[1;33m.\u001b[0m\u001b[0magent\u001b[0m \u001b[1;32mimport\u001b[0m \u001b[0mAgent\u001b[0m\u001b[1;33m\u001b[0m\u001b[1;33m\u001b[0m\u001b[0m\n\u001b[0;32m     44\u001b[0m \u001b[1;32mfrom\u001b[0m \u001b[0mnumbers\u001b[0m \u001b[1;32mimport\u001b[0m \u001b[0mReal\u001b[0m\u001b[1;33m\u001b[0m\u001b[1;33m\u001b[0m\u001b[0m\n\u001b[1;32m---> 45\u001b[1;33m \u001b[1;32mimport\u001b[0m \u001b[0mnumpy\u001b[0m\u001b[1;33m.\u001b[0m\u001b[0mtyping\u001b[0m \u001b[1;32mas\u001b[0m \u001b[0mnpt\u001b[0m\u001b[1;33m\u001b[0m\u001b[1;33m\u001b[0m\u001b[0m\n\u001b[0m\u001b[0;32m     46\u001b[0m \u001b[1;33m\u001b[0m\u001b[0m\n\u001b[0;32m     47\u001b[0m \u001b[0mCoordinate\u001b[0m \u001b[1;33m=\u001b[0m \u001b[0mTuple\u001b[0m\u001b[1;33m[\u001b[0m\u001b[0mint\u001b[0m\u001b[1;33m,\u001b[0m \u001b[0mint\u001b[0m\u001b[1;33m]\u001b[0m\u001b[1;33m\u001b[0m\u001b[1;33m\u001b[0m\u001b[0m\n",
      "\u001b[1;31mModuleNotFoundError\u001b[0m: No module named 'numpy.typing'"
     ]
    }
   ],
   "source": [
    "from models import *"
   ]
  },
  {
   "cell_type": "code",
   "execution_count": 2,
   "metadata": {},
   "outputs": [
    {
     "name": "stdout",
     "output_type": "stream",
     "text": [
      "Collecting mesa\n",
      "  Using cached Mesa-1.0.0-py3-none-any.whl (2.5 MB)\n",
      "Requirement already satisfied: tornado in d:\\anaconda\\envs\\torch37\\lib\\site-packages (from mesa) (6.1)\n",
      "Requirement already satisfied: tqdm in d:\\anaconda\\envs\\torch37\\lib\\site-packages (from mesa) (4.62.3)\n",
      "Collecting networkx\n",
      "  Downloading networkx-2.6.3-py3-none-any.whl (1.9 MB)\n",
      "Requirement already satisfied: numpy in d:\\anaconda\\envs\\torch37\\lib\\site-packages (from mesa) (1.19.3)\n",
      "Requirement already satisfied: pandas in d:\\anaconda\\envs\\torch37\\lib\\site-packages (from mesa) (1.3.5)\n",
      "Requirement already satisfied: click in d:\\anaconda\\envs\\torch37\\lib\\site-packages (from mesa) (8.0.3)\n",
      "Collecting cookiecutter\n",
      "  Using cached cookiecutter-2.1.1-py2.py3-none-any.whl (36 kB)\n",
      "Requirement already satisfied: colorama in d:\\anaconda\\envs\\torch37\\lib\\site-packages (from click->mesa) (0.4.4)\n",
      "Requirement already satisfied: importlib-metadata in d:\\anaconda\\envs\\torch37\\lib\\site-packages (from click->mesa) (4.10.1)\n",
      "Collecting binaryornot>=0.4.4\n",
      "  Using cached binaryornot-0.4.4-py2.py3-none-any.whl (9.0 kB)\n",
      "Requirement already satisfied: Jinja2<4.0.0,>=2.7 in d:\\anaconda\\envs\\torch37\\lib\\site-packages (from cookiecutter->mesa) (3.0.3)\n",
      "Collecting jinja2-time>=0.2.0\n",
      "  Using cached jinja2_time-0.2.0-py2.py3-none-any.whl (6.4 kB)\n",
      "Requirement already satisfied: python-slugify>=4.0.0 in d:\\anaconda\\envs\\torch37\\lib\\site-packages (from cookiecutter->mesa) (5.0.2)\n",
      "Requirement already satisfied: requests>=2.23.0 in d:\\anaconda\\envs\\torch37\\lib\\site-packages (from cookiecutter->mesa) (2.27.1)\n",
      "Requirement already satisfied: pyyaml>=5.3.1 in d:\\anaconda\\envs\\torch37\\lib\\site-packages (from cookiecutter->mesa) (6.0)\n",
      "Collecting chardet>=3.0.2\n",
      "  Downloading chardet-5.0.0-py3-none-any.whl (193 kB)\n",
      "Requirement already satisfied: MarkupSafe>=2.0 in d:\\anaconda\\envs\\torch37\\lib\\site-packages (from Jinja2<4.0.0,>=2.7->cookiecutter->mesa) (2.0.1)\n",
      "Collecting arrow\n",
      "  Downloading arrow-1.2.3-py3-none-any.whl (66 kB)\n",
      "Requirement already satisfied: text-unidecode>=1.3 in d:\\anaconda\\envs\\torch37\\lib\\site-packages (from python-slugify>=4.0.0->cookiecutter->mesa) (1.3)\n",
      "Requirement already satisfied: certifi>=2017.4.17 in d:\\anaconda\\envs\\torch37\\lib\\site-packages (from requests>=2.23.0->cookiecutter->mesa) (2021.10.8)\n",
      "Requirement already satisfied: urllib3<1.27,>=1.21.1 in d:\\anaconda\\envs\\torch37\\lib\\site-packages (from requests>=2.23.0->cookiecutter->mesa) (1.26.7)\n",
      "Requirement already satisfied: idna<4,>=2.5 in d:\\anaconda\\envs\\torch37\\lib\\site-packages (from requests>=2.23.0->cookiecutter->mesa) (3.3)\n",
      "Requirement already satisfied: charset-normalizer~=2.0.0 in d:\\anaconda\\envs\\torch37\\lib\\site-packages (from requests>=2.23.0->cookiecutter->mesa) (2.0.4)\n",
      "Requirement already satisfied: python-dateutil>=2.7.0 in d:\\anaconda\\envs\\torch37\\lib\\site-packages (from arrow->jinja2-time>=0.2.0->cookiecutter->mesa) (2.8.2)\n",
      "Requirement already satisfied: typing-extensions in d:\\anaconda\\envs\\torch37\\lib\\site-packages (from arrow->jinja2-time>=0.2.0->cookiecutter->mesa) (4.0.1)\n",
      "Requirement already satisfied: six>=1.5 in d:\\anaconda\\envs\\torch37\\lib\\site-packages (from python-dateutil>=2.7.0->arrow->jinja2-time>=0.2.0->cookiecutter->mesa) (1.16.0)\n",
      "Requirement already satisfied: zipp>=0.5 in d:\\anaconda\\envs\\torch37\\lib\\site-packages (from importlib-metadata->click->mesa) (3.7.0)\n",
      "Requirement already satisfied: pytz>=2017.3 in d:\\anaconda\\envs\\torch37\\lib\\site-packages (from pandas->mesa) (2021.3)\n",
      "Installing collected packages: chardet, arrow, jinja2-time, binaryornot, networkx, cookiecutter, mesa\n",
      "Successfully installed arrow-1.2.3 binaryornot-0.4.4 chardet-5.0.0 cookiecutter-2.1.1 jinja2-time-0.2.0 mesa-1.0.0 networkx-2.6.3\n"
     ]
    }
   ],
   "source": []
  },
  {
   "cell_type": "code",
   "execution_count": null,
   "metadata": {},
   "outputs": [],
   "source": [
    "one_hot = True\n",
    "write = False\n",
    "board = Board(width = 31, height = 31, spawn_rate=1, max_spawn_batch=5, one_hot = one_hot, write=write)"
   ]
  },
  {
   "cell_type": "code",
   "execution_count": null,
   "metadata": {},
   "outputs": [],
   "source": [
    "IA = TrafficLightIA(board)"
   ]
  }
 ],
 "metadata": {
  "kernelspec": {
   "display_name": "Python 3.7.11 ('torch37')",
   "language": "python",
   "name": "python3"
  },
  "language_info": {
   "codemirror_mode": {
    "name": "ipython",
    "version": 3
   },
   "file_extension": ".py",
   "mimetype": "text/x-python",
   "name": "python",
   "nbconvert_exporter": "python",
   "pygments_lexer": "ipython3",
   "version": "3.7.11"
  },
  "orig_nbformat": 4,
  "vscode": {
   "interpreter": {
    "hash": "5ae1cf70786a46721fd09fee267ea3485c6969f729026b4657dbf8da65fd8cd5"
   }
  }
 },
 "nbformat": 4,
 "nbformat_minor": 2
}
